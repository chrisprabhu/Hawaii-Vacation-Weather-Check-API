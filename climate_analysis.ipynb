{
 "cells": [
  {
   "cell_type": "code",
   "execution_count": 1,
   "metadata": {},
   "outputs": [],
   "source": [
    "#Import Dependencies\n",
    "import sqlalchemy\n",
    "from sqlalchemy.ext.automap import automap_base\n",
    "from sqlalchemy.orm import Session\n",
    "from sqlalchemy import create_engine, inspect\n",
    "import pandas as pd\n",
    "from datetime import datetime, timedelta\n",
    "import matplotlib.pyplot as plt"
   ]
  },
  {
   "cell_type": "code",
   "execution_count": 2,
   "metadata": {},
   "outputs": [],
   "source": [
    "#Read in CSV Spreadsheets\n",
    "hawaii_measurements = pd.read_csv(\"resources/clean_hawaii_measurements.csv\")\n",
    "hawaii_stations = pd.read_csv(\"resources/clean_hawaii_stations.csv\")"
   ]
  },
  {
   "cell_type": "code",
   "execution_count": 3,
   "metadata": {},
   "outputs": [],
   "source": [
    "#Remove the extra index column(s)\n",
    "hawaii_measurements = hawaii_measurements.rename(columns={\"Unnamed: 0\":\"index\"}).set_index('index')\n",
    "hawaii_stations = hawaii_stations.rename(columns={\"Unnamed: 0\":\"index\"}).set_index('index')"
   ]
  },
  {
   "cell_type": "code",
   "execution_count": 4,
   "metadata": {},
   "outputs": [
    {
     "data": {
      "text/plain": [
       "'2010-01-01'"
      ]
     },
     "execution_count": 4,
     "metadata": {},
     "output_type": "execute_result"
    }
   ],
   "source": [
    "measurements_dates = hawaii_measurements['date']\n",
    "measurements_dates[0]"
   ]
  },
  {
   "cell_type": "code",
   "execution_count": 5,
   "metadata": {},
   "outputs": [
    {
     "name": "stdout",
     "output_type": "stream",
     "text": [
      "           station        date  prcp  tobs\n",
      "index                                     \n",
      "0      USC00519397  2010-01-01  0.08    65\n",
      "1      USC00519397  2010-01-02  0.00    63\n",
      "2      USC00519397  2010-01-03  0.00    74\n",
      "3      USC00519397  2010-01-04  0.00    76\n",
      "5      USC00519397  2010-01-07  0.06    70\n",
      "           station                                    name  latitude  \\\n",
      "index                                                                  \n",
      "0      USC00519397                    WAIKIKI 717.2, HI US   21.2716   \n",
      "1      USC00513117                    KANEOHE 838.1, HI US   21.4234   \n",
      "2      USC00514830  KUALOA RANCH HEADQUARTERS 886.9, HI US   21.5213   \n",
      "3      USC00517948                       PEARL CITY, HI US   21.3934   \n",
      "4      USC00518838              UPPER WAHIAWA 874.3, HI US   21.4992   \n",
      "\n",
      "       longitude  elevation  \n",
      "index                        \n",
      "0      -157.8168        3.0  \n",
      "1      -157.8015       14.6  \n",
      "2      -157.8374        7.0  \n",
      "3      -157.9751       11.9  \n",
      "4      -158.0111      306.6  \n"
     ]
    }
   ],
   "source": [
    "# View the dataframes\n",
    "print(hawaii_measurements.head())\n",
    "print(hawaii_stations.head())"
   ]
  },
  {
   "cell_type": "code",
   "execution_count": 6,
   "metadata": {},
   "outputs": [],
   "source": [
    "# Connect to the SQL Engine\n",
    "engine = create_engine(\"sqlite:///hawaii.sqlite\")\n",
    "conn = engine.connect()"
   ]
  },
  {
   "cell_type": "code",
   "execution_count": 7,
   "metadata": {},
   "outputs": [
    {
     "data": {
      "text/plain": [
       "<sqlalchemy.engine.result.ResultProxy at 0x10a0b2ac8>"
      ]
     },
     "execution_count": 7,
     "metadata": {},
     "output_type": "execute_result"
    }
   ],
   "source": [
    "#Debug statement to clear the dataframes so I don't get errors when trying to run this script several times:\n",
    "engine.execute(\"DELETE FROM hawaii_measurements;\")\n",
    "engine.execute(\"DELETE FROM hawaii_stations;\")"
   ]
  },
  {
   "cell_type": "code",
   "execution_count": 8,
   "metadata": {},
   "outputs": [],
   "source": [
    "#Push the dataframes to the database: \n",
    "hawaii_measurements.to_sql(name=\"hawaii_measurements\", con=conn, if_exists='append')\n",
    "hawaii_stations.to_sql(name=\"hawaii_stations\", con=conn, if_exists='append')"
   ]
  },
  {
   "cell_type": "code",
   "execution_count": 9,
   "metadata": {},
   "outputs": [],
   "source": [
    "#Map the Classes from the database and pull out the keys:\n",
    "Base = automap_base()\n",
    "Base.prepare(engine, reflect=True)"
   ]
  },
  {
   "cell_type": "code",
   "execution_count": 10,
   "metadata": {},
   "outputs": [
    {
     "data": {
      "text/plain": [
       "['hawaii_measurements', 'hawaii_stations']"
      ]
     },
     "execution_count": 10,
     "metadata": {},
     "output_type": "execute_result"
    }
   ],
   "source": [
    "Base.classes.keys()"
   ]
  },
  {
   "cell_type": "code",
   "execution_count": 11,
   "metadata": {},
   "outputs": [],
   "source": [
    "#Save the classes as objects to be used in the script:\n",
    "Measurements = Base.classes.hawaii_measurements\n",
    "Station = Base.classes.hawaii_stations"
   ]
  },
  {
   "cell_type": "code",
   "execution_count": 12,
   "metadata": {},
   "outputs": [],
   "source": [
    "#Create the Session object:\n",
    "session = Session(engine)"
   ]
  },
  {
   "cell_type": "code",
   "execution_count": 13,
   "metadata": {},
   "outputs": [],
   "source": [
    "# Query the database for the chosen dates (12 months from the end of the database) and create add each row to a list:\n",
    "data = session.query(Measurements.date, Measurements.prcp).filter(Measurements.date >= '2016-08-23').order_by(Measurements.date)\n",
    "data_list = []\n",
    "for row in data:\n",
    "    data_list.append(row)"
   ]
  },
  {
   "cell_type": "code",
   "execution_count": 14,
   "metadata": {},
   "outputs": [
    {
     "data": {
      "text/html": [
       "<div>\n",
       "<style scoped>\n",
       "    .dataframe tbody tr th:only-of-type {\n",
       "        vertical-align: middle;\n",
       "    }\n",
       "\n",
       "    .dataframe tbody tr th {\n",
       "        vertical-align: top;\n",
       "    }\n",
       "\n",
       "    .dataframe thead th {\n",
       "        text-align: right;\n",
       "    }\n",
       "</style>\n",
       "<table border=\"1\" class=\"dataframe\">\n",
       "  <thead>\n",
       "    <tr style=\"text-align: right;\">\n",
       "      <th></th>\n",
       "      <th>prcp</th>\n",
       "    </tr>\n",
       "    <tr>\n",
       "      <th>date</th>\n",
       "      <th></th>\n",
       "    </tr>\n",
       "  </thead>\n",
       "  <tbody>\n",
       "    <tr>\n",
       "      <th>2016-08-23</th>\n",
       "      <td>0.00</td>\n",
       "    </tr>\n",
       "    <tr>\n",
       "      <th>2016-08-23</th>\n",
       "      <td>0.15</td>\n",
       "    </tr>\n",
       "    <tr>\n",
       "      <th>2016-08-23</th>\n",
       "      <td>0.05</td>\n",
       "    </tr>\n",
       "    <tr>\n",
       "      <th>2016-08-23</th>\n",
       "      <td>0.02</td>\n",
       "    </tr>\n",
       "    <tr>\n",
       "      <th>2016-08-23</th>\n",
       "      <td>1.79</td>\n",
       "    </tr>\n",
       "  </tbody>\n",
       "</table>\n",
       "</div>"
      ],
      "text/plain": [
       "            prcp\n",
       "date            \n",
       "2016-08-23  0.00\n",
       "2016-08-23  0.15\n",
       "2016-08-23  0.05\n",
       "2016-08-23  0.02\n",
       "2016-08-23  1.79"
      ]
     },
     "execution_count": 14,
     "metadata": {},
     "output_type": "execute_result"
    }
   ],
   "source": [
    "# Use the list of rows to create a dataframe for the dates and preciptation value: \n",
    "date_prcp = pd.DataFrame(data= data_list)\n",
    "date_prcp = date_prcp.sort_values(\"date\", ascending=True)\n",
    "date_prcp = date_prcp.set_index(\"date\")\n",
    "date_prcp.head()"
   ]
  },
  {
   "cell_type": "code",
   "execution_count": 15,
   "metadata": {},
   "outputs": [],
   "source": [
    "#XTICK ATTEMPT WITH PLT.SUBPLOT\n",
    "#x = date_prcp.index.tolist()\n",
    "#y = date_prcp['prcp'].tolist()\n",
    "#ax = plt.subplot(111)\n",
    "#ax.bar(x, y)\n",
    "#ax.xaxis_date()\n",
    "#plt.show()"
   ]
  },
  {
   "cell_type": "code",
   "execution_count": 42,
   "metadata": {},
   "outputs": [
    {
     "data": {
      "text/plain": [
       "<matplotlib.figure.Figure at 0x10aaf6898>"
      ]
     },
     "metadata": {},
     "output_type": "display_data"
    },
    {
     "data": {
      "image/png": "[encoded data removed]",
      "text/plain": [
       "<matplotlib.figure.Figure at 0x10a96f898>"
      ]
     },
     "metadata": {},
     "output_type": "display_data"
    },
    {
     "name": "stdout",
     "output_type": "stream",
     "text": [
      "Text(0,0,'two')\n",
      "Text(250,0,'3')\n",
      "Text(500,0,'4')\n",
      "Text(750,0,'5')\n",
      "Text(1000,0,'6')\n",
      "Text(1250,0,'7')\n",
      "Text(1500,0,'8')\n",
      "Text(1750,0,'9')\n",
      "Text(2000,0,'10')\n"
     ]
    }
   ],
   "source": [
    "# Plot the precipitation vs dates:\n",
    "plt.figure(figsize=(5,3))\n",
    "date_prcp.plot()\n",
    "plt.xlabel(\"Date\")\n",
    "plt.ylabel(\"Precipitation in Inches\")\n",
    "locs, labels = plt.xticks([0,  250,  500,  750, 1000, 1250, 1500, 1750, 2000] , [\"two\", \"3\", \"4\", \"5\", \"6\", \"7\", \"8\",\"9\",\"10\",])\n",
    "plt.show()\n",
    "for label in labels:\n",
    "    print(label)"
   ]
  },
  {
   "cell_type": "code",
   "execution_count": 17,
   "metadata": {},
   "outputs": [
    {
     "data": {
      "text/html": [
       "<div>\n",
       "<style scoped>\n",
       "    .dataframe tbody tr th:only-of-type {\n",
       "        vertical-align: middle;\n",
       "    }\n",
       "\n",
       "    .dataframe tbody tr th {\n",
       "        vertical-align: top;\n",
       "    }\n",
       "\n",
       "    .dataframe thead th {\n",
       "        text-align: right;\n",
       "    }\n",
       "</style>\n",
       "<table border=\"1\" class=\"dataframe\">\n",
       "  <thead>\n",
       "    <tr style=\"text-align: right;\">\n",
       "      <th></th>\n",
       "      <th>index</th>\n",
       "      <th>station</th>\n",
       "      <th>date</th>\n",
       "      <th>prcp</th>\n",
       "      <th>tobs</th>\n",
       "    </tr>\n",
       "  </thead>\n",
       "  <tbody>\n",
       "    <tr>\n",
       "      <th>0</th>\n",
       "      <td>0</td>\n",
       "      <td>USC00519397</td>\n",
       "      <td>2010-01-01</td>\n",
       "      <td>0.08</td>\n",
       "      <td>65</td>\n",
       "    </tr>\n",
       "    <tr>\n",
       "      <th>1</th>\n",
       "      <td>1</td>\n",
       "      <td>USC00519397</td>\n",
       "      <td>2010-01-02</td>\n",
       "      <td>0.00</td>\n",
       "      <td>63</td>\n",
       "    </tr>\n",
       "    <tr>\n",
       "      <th>2</th>\n",
       "      <td>2</td>\n",
       "      <td>USC00519397</td>\n",
       "      <td>2010-01-03</td>\n",
       "      <td>0.00</td>\n",
       "      <td>74</td>\n",
       "    </tr>\n",
       "    <tr>\n",
       "      <th>3</th>\n",
       "      <td>3</td>\n",
       "      <td>USC00519397</td>\n",
       "      <td>2010-01-04</td>\n",
       "      <td>0.00</td>\n",
       "      <td>76</td>\n",
       "    </tr>\n",
       "    <tr>\n",
       "      <th>4</th>\n",
       "      <td>5</td>\n",
       "      <td>USC00519397</td>\n",
       "      <td>2010-01-07</td>\n",
       "      <td>0.06</td>\n",
       "      <td>70</td>\n",
       "    </tr>\n",
       "  </tbody>\n",
       "</table>\n",
       "</div>"
      ],
      "text/plain": [
       "   index      station        date  prcp  tobs\n",
       "0      0  USC00519397  2010-01-01  0.08    65\n",
       "1      1  USC00519397  2010-01-02  0.00    63\n",
       "2      2  USC00519397  2010-01-03  0.00    74\n",
       "3      3  USC00519397  2010-01-04  0.00    76\n",
       "4      5  USC00519397  2010-01-07  0.06    70"
      ]
     },
     "execution_count": 17,
     "metadata": {},
     "output_type": "execute_result"
    }
   ],
   "source": [
    "# Read in the hawaii_measurements database and set it to a dataframe: \n",
    "measurements_df = pd.read_sql('SELECT * FROM hawaii_measurements', con=conn)\n",
    "measurements_df.head()"
   ]
  },
  {
   "cell_type": "code",
   "execution_count": 18,
   "metadata": {},
   "outputs": [
    {
     "name": "stdout",
     "output_type": "stream",
     "text": [
      "The number of stations is: 9\n"
     ]
    }
   ],
   "source": [
    "#Count the number of stations:\n",
    "number_of_stations = measurements_df['station'].nunique()\n",
    "print(f\"The number of stations is: {number_of_stations}\")"
   ]
  },
  {
   "cell_type": "code",
   "execution_count": 19,
   "metadata": {},
   "outputs": [
    {
     "name": "stdout",
     "output_type": "stream",
     "text": [
      "USC00519281    2772\n",
      "USC00513117    2696\n",
      "USC00519397    2685\n",
      "USC00519523    2572\n",
      "USC00516128    2484\n",
      "USC00514830    1937\n",
      "USC00511918    1932\n",
      "USC00517948     683\n",
      "USC00518838     342\n",
      "Name: station, dtype: int64\n",
      "The station with the most observations is stations number: USC00519281 with 2772 observations.\n"
     ]
    }
   ],
   "source": [
    "#Find the number of stations' observations and the most station with the most observations:\n",
    "print(measurements_df['station'].value_counts())\n",
    "most_observed_station = measurements_df['station'].value_counts().index[0]\n",
    "observations = measurements_df['station'].value_counts()[0]\n",
    "print(f\"The station with the most observations is stations number: {most_observed_station} with {observations} observations.\")"
   ]
  },
  {
   "cell_type": "code",
   "execution_count": 20,
   "metadata": {},
   "outputs": [
    {
     "data": {
      "text/html": [
       "<div>\n",
       "<style scoped>\n",
       "    .dataframe tbody tr th:only-of-type {\n",
       "        vertical-align: middle;\n",
       "    }\n",
       "\n",
       "    .dataframe tbody tr th {\n",
       "        vertical-align: top;\n",
       "    }\n",
       "\n",
       "    .dataframe thead th {\n",
       "        text-align: right;\n",
       "    }\n",
       "</style>\n",
       "<table border=\"1\" class=\"dataframe\">\n",
       "  <thead>\n",
       "    <tr style=\"text-align: right;\">\n",
       "      <th></th>\n",
       "      <th>index</th>\n",
       "      <th>station</th>\n",
       "      <th>date</th>\n",
       "      <th>prcp</th>\n",
       "      <th>tobs</th>\n",
       "    </tr>\n",
       "  </thead>\n",
       "  <tbody>\n",
       "    <tr>\n",
       "      <th>0</th>\n",
       "      <td>2363</td>\n",
       "      <td>USC00519397</td>\n",
       "      <td>2016-08-23</td>\n",
       "      <td>0.00</td>\n",
       "      <td>81</td>\n",
       "    </tr>\n",
       "    <tr>\n",
       "      <th>1</th>\n",
       "      <td>2364</td>\n",
       "      <td>USC00519397</td>\n",
       "      <td>2016-08-24</td>\n",
       "      <td>0.08</td>\n",
       "      <td>79</td>\n",
       "    </tr>\n",
       "    <tr>\n",
       "      <th>2</th>\n",
       "      <td>2365</td>\n",
       "      <td>USC00519397</td>\n",
       "      <td>2016-08-25</td>\n",
       "      <td>0.08</td>\n",
       "      <td>80</td>\n",
       "    </tr>\n",
       "    <tr>\n",
       "      <th>3</th>\n",
       "      <td>2366</td>\n",
       "      <td>USC00519397</td>\n",
       "      <td>2016-08-26</td>\n",
       "      <td>0.00</td>\n",
       "      <td>79</td>\n",
       "    </tr>\n",
       "    <tr>\n",
       "      <th>4</th>\n",
       "      <td>2367</td>\n",
       "      <td>USC00519397</td>\n",
       "      <td>2016-08-27</td>\n",
       "      <td>0.00</td>\n",
       "      <td>77</td>\n",
       "    </tr>\n",
       "  </tbody>\n",
       "</table>\n",
       "</div>"
      ],
      "text/plain": [
       "   index      station        date  prcp  tobs\n",
       "0   2363  USC00519397  2016-08-23  0.00    81\n",
       "1   2364  USC00519397  2016-08-24  0.08    79\n",
       "2   2365  USC00519397  2016-08-25  0.08    80\n",
       "3   2366  USC00519397  2016-08-26  0.00    79\n",
       "4   2367  USC00519397  2016-08-27  0.00    77"
      ]
     },
     "execution_count": 20,
     "metadata": {},
     "output_type": "execute_result"
    }
   ],
   "source": [
    "#Create a dataframe with only the last 12 months of data:\n",
    "last12months_df = pd.read_sql(\"SELECT * FROM hawaii_measurements WHERE date >= '2016-08-23'\", con=conn)\n",
    "last12months_df.head()"
   ]
  },
  {
   "cell_type": "code",
   "execution_count": 21,
   "metadata": {},
   "outputs": [
    {
     "data": {
      "image/png": "[encoded data removed]",
      "text/plain": [
       "<matplotlib.figure.Figure at 0x10afa9358>"
      ]
     },
     "metadata": {},
     "output_type": "display_data"
    }
   ],
   "source": [
    "# Create a graph of the frequency of each temperature:\n",
    "plt.hist(last12months_df['tobs'], 12)\n",
    "plt.xlabel(\"Temperature (F)\")\n",
    "plt.ylabel(\"Frequency\")\n",
    "plt.show()"
   ]
  },
  {
   "cell_type": "code",
   "execution_count": 22,
   "metadata": {},
   "outputs": [],
   "source": [
    "#Create a function that finds the min, max, and mean temps for a given date range and make a graph:\n",
    "def calc_temps (start_date, end_date):\n",
    "    dataframe = pd.read_sql(f\"SELECT * FROM hawaii_measurements WHERE (date >= '{start_date}' AND date <= '{end_date}')\", con=conn)\n",
    "    min_temp = dataframe['tobs'].min()\n",
    "    max_temp = dataframe['tobs'].max()\n",
    "    mean_temp = dataframe['tobs'].mean()\n",
    "    \n",
    "    print(f\"The minimum temperature for your date range is: {min_temp}\")\n",
    "    print(f\"The maximum temperature for your date range is: {max_temp}\")\n",
    "    print(f\"The average temperature for your date range is: {mean_temp}\")\n",
    "    \n",
    "    plt.figure(figsize=(2,5))\n",
    "    plt.bar(1, max_temp, width=1, yerr=(max_temp - min_temp), color=\"salmon\", alpha=.5)\n",
    "    plt.ylabel(\"Temp (F)\")\n",
    "    plt.title(\"Trip Avg Temp\")\n",
    "    plt.show()"
   ]
  },
  {
   "cell_type": "code",
   "execution_count": 23,
   "metadata": {
    "scrolled": true
   },
   "outputs": [
    {
     "name": "stdout",
     "output_type": "stream",
     "text": [
      "The minimum temperature for your date range is: 56\n",
      "The maximum temperature for your date range is: 87\n",
      "The average temperature for your date range is: 72.50074794315633\n"
     ]
    },
    {
     "data": {
      "image/png": "[encoded data removed]",
      "text/plain": [
       "<matplotlib.figure.Figure at 0x10a362d68>"
      ]
     },
     "metadata": {},
     "output_type": "display_data"
    }
   ],
   "source": [
    "#Test the function:\n",
    "calc_temps(\"2010-01-01\", \"2010-12-30\")"
   ]
  }
 ],
 "metadata": {
  "kernelspec": {
   "display_name": "Python 3",
   "language": "python",
   "name": "python3"
  },
  "language_info": {
   "codemirror_mode": {
    "name": "ipython",
    "version": 3
   },
   "file_extension": ".py",
   "mimetype": "text/x-python",
   "name": "python",
   "nbconvert_exporter": "python",
   "pygments_lexer": "ipython3",
   "version": "3.6.3"
  }
 },
 "nbformat": 4,
 "nbformat_minor": 2
}
