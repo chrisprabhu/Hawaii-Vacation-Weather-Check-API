{
 "cells": [
  {
   "cell_type": "code",
   "execution_count": 1,
   "metadata": {},
   "outputs": [],
   "source": [
    "#Import Dependencies\n",
    "import sqlalchemy\n",
    "from sqlalchemy.ext.automap import automap_base\n",
    "from sqlalchemy.orm import Session\n",
    "from sqlalchemy import create_engine, inspect\n",
    "import pandas as pd\n",
    "from datetime import datetime, timedelta\n",
    "import matplotlib.pyplot as plt\n",
    "from flask import Flask, jsonify"
   ]
  },
  {
   "cell_type": "code",
   "execution_count": 2,
   "metadata": {},
   "outputs": [],
   "source": [
    "#Read in CSV Spreadsheets\n",
    "hawaii_measurements = pd.read_csv(\"resources/clean_hawaii_measurements.csv\")\n",
    "hawaii_stations = pd.read_csv(\"resources/clean_hawaii_stations.csv\")"
   ]
  },
  {
   "cell_type": "code",
   "execution_count": 3,
   "metadata": {},
   "outputs": [],
   "source": [
    "#Remove the extra index column(s)\n",
    "hawaii_measurements = hawaii_measurements.rename(columns={\"Unnamed: 0\":\"index\"}).set_index('index')\n",
    "hawaii_stations = hawaii_stations.rename(columns={\"Unnamed: 0\":\"index\"}).set_index('index')"
   ]
  },
  {
   "cell_type": "code",
   "execution_count": 5,
   "metadata": {},
   "outputs": [],
   "source": [
    "# Connect to the SQL Engine\n",
    "engine = create_engine(\"sqlite:///hawaii.sqlite\")\n",
    "conn = engine.connect()"
   ]
  },
  {
   "cell_type": "code",
   "execution_count": 6,
   "metadata": {},
   "outputs": [
    {
     "data": {
      "text/plain": [
       "<sqlalchemy.engine.result.ResultProxy at 0x110e49860>"
      ]
     },
     "execution_count": 6,
     "metadata": {},
     "output_type": "execute_result"
    }
   ],
   "source": [
    "# DEBUG: Clear the databases so I don't get errors when running the script multiple times. \n",
    "engine.execute(\"DELETE FROM hawaii_measurements;\")\n",
    "engine.execute(\"DELETE FROM hawaii_stations;\")"
   ]
  },
  {
   "cell_type": "code",
   "execution_count": 7,
   "metadata": {},
   "outputs": [],
   "source": [
    "# Push the dataframes to the databases: \n",
    "hawaii_measurements.to_sql(name=\"hawaii_measurements\", con=conn, if_exists='append')\n",
    "hawaii_stations.to_sql(name=\"hawaii_stations\", con=conn, if_exists='append')"
   ]
  },
  {
   "cell_type": "code",
   "execution_count": 8,
   "metadata": {},
   "outputs": [],
   "source": [
    "# Grab the database's classes\n",
    "Base = automap_base()\n",
    "Base.prepare(engine, reflect=True)\n",
    "Base.classes.keys()"
   ]
  },
  {
   "cell_type": "code",
   "execution_count": 10,
   "metadata": {},
   "outputs": [],
   "source": [
    "# Set the classes to variables:\n",
    "Measurements = Base.classes.hawaii_measurements\n",
    "Station = Base.classes.hawaii_stations"
   ]
  },
  {
   "cell_type": "code",
   "execution_count": 11,
   "metadata": {},
   "outputs": [],
   "source": [
    "session = Session(engine)"
   ]
  },
  {
   "cell_type": "code",
   "execution_count": 12,
   "metadata": {},
   "outputs": [],
   "source": [
    "# Retrieve the last (most recent since it's not current) 12 months in data from the measurements database: \n",
    "\n",
    "data = session.query(Measurements.date, Measurements.prcp).filter(Measurements.date >= '2016-08-23').order_by(Measurements.date)\n",
    "data_list = []\n",
    "for row in data:\n",
    "    data_list.append(row)"
   ]
  },
  {
   "cell_type": "code",
   "execution_count": 13,
   "metadata": {},
   "outputs": [
    {
     "data": {
      "text/html": [
       "<div>\n",
       "<style scoped>\n",
       "    .dataframe tbody tr th:only-of-type {\n",
       "        vertical-align: middle;\n",
       "    }\n",
       "\n",
       "    .dataframe tbody tr th {\n",
       "        vertical-align: top;\n",
       "    }\n",
       "\n",
       "    .dataframe thead th {\n",
       "        text-align: right;\n",
       "    }\n",
       "</style>\n",
       "<table border=\"1\" class=\"dataframe\">\n",
       "  <thead>\n",
       "    <tr style=\"text-align: right;\">\n",
       "      <th></th>\n",
       "      <th>prcp</th>\n",
       "    </tr>\n",
       "    <tr>\n",
       "      <th>date</th>\n",
       "      <th></th>\n",
       "    </tr>\n",
       "  </thead>\n",
       "  <tbody>\n",
       "    <tr>\n",
       "      <th>2016-08-23</th>\n",
       "      <td>0.00</td>\n",
       "    </tr>\n",
       "    <tr>\n",
       "      <th>2016-08-23</th>\n",
       "      <td>0.15</td>\n",
       "    </tr>\n",
       "    <tr>\n",
       "      <th>2016-08-23</th>\n",
       "      <td>0.05</td>\n",
       "    </tr>\n",
       "    <tr>\n",
       "      <th>2016-08-23</th>\n",
       "      <td>0.02</td>\n",
       "    </tr>\n",
       "    <tr>\n",
       "      <th>2016-08-23</th>\n",
       "      <td>1.79</td>\n",
       "    </tr>\n",
       "  </tbody>\n",
       "</table>\n",
       "</div>"
      ],
      "text/plain": [
       "            prcp\n",
       "date            \n",
       "2016-08-23  0.00\n",
       "2016-08-23  0.15\n",
       "2016-08-23  0.05\n",
       "2016-08-23  0.02\n",
       "2016-08-23  1.79"
      ]
     },
     "execution_count": 13,
     "metadata": {},
     "output_type": "execute_result"
    }
   ],
   "source": [
    "# Add it to a dataframe: \n",
    "\n",
    "date_prcp = pd.DataFrame(data= data_list)\n",
    "date_prcp = date_prcp.sort_values(\"date\", ascending=True)\n",
    "date_prcp = date_prcp.set_index(\"date\")\n",
    "date_prcp.head()"
   ]
  },
  {
   "cell_type": "code",
   "execution_count": 14,
   "metadata": {},
   "outputs": [
    {
     "data": {
      "text/html": [
       "<div>\n",
       "<style scoped>\n",
       "    .dataframe tbody tr th:only-of-type {\n",
       "        vertical-align: middle;\n",
       "    }\n",
       "\n",
       "    .dataframe tbody tr th {\n",
       "        vertical-align: top;\n",
       "    }\n",
       "\n",
       "    .dataframe thead th {\n",
       "        text-align: right;\n",
       "    }\n",
       "</style>\n",
       "<table border=\"1\" class=\"dataframe\">\n",
       "  <thead>\n",
       "    <tr style=\"text-align: right;\">\n",
       "      <th></th>\n",
       "      <th>index</th>\n",
       "      <th>station</th>\n",
       "      <th>date</th>\n",
       "      <th>prcp</th>\n",
       "      <th>tobs</th>\n",
       "    </tr>\n",
       "  </thead>\n",
       "  <tbody>\n",
       "    <tr>\n",
       "      <th>0</th>\n",
       "      <td>0</td>\n",
       "      <td>USC00519397</td>\n",
       "      <td>2010-01-01</td>\n",
       "      <td>0.08</td>\n",
       "      <td>65</td>\n",
       "    </tr>\n",
       "    <tr>\n",
       "      <th>1</th>\n",
       "      <td>1</td>\n",
       "      <td>USC00519397</td>\n",
       "      <td>2010-01-02</td>\n",
       "      <td>0.00</td>\n",
       "      <td>63</td>\n",
       "    </tr>\n",
       "    <tr>\n",
       "      <th>2</th>\n",
       "      <td>2</td>\n",
       "      <td>USC00519397</td>\n",
       "      <td>2010-01-03</td>\n",
       "      <td>0.00</td>\n",
       "      <td>74</td>\n",
       "    </tr>\n",
       "    <tr>\n",
       "      <th>3</th>\n",
       "      <td>3</td>\n",
       "      <td>USC00519397</td>\n",
       "      <td>2010-01-04</td>\n",
       "      <td>0.00</td>\n",
       "      <td>76</td>\n",
       "    </tr>\n",
       "    <tr>\n",
       "      <th>4</th>\n",
       "      <td>5</td>\n",
       "      <td>USC00519397</td>\n",
       "      <td>2010-01-07</td>\n",
       "      <td>0.06</td>\n",
       "      <td>70</td>\n",
       "    </tr>\n",
       "  </tbody>\n",
       "</table>\n",
       "</div>"
      ],
      "text/plain": [
       "   index      station        date  prcp  tobs\n",
       "0      0  USC00519397  2010-01-01  0.08    65\n",
       "1      1  USC00519397  2010-01-02  0.00    63\n",
       "2      2  USC00519397  2010-01-03  0.00    74\n",
       "3      3  USC00519397  2010-01-04  0.00    76\n",
       "4      5  USC00519397  2010-01-07  0.06    70"
      ]
     },
     "execution_count": 14,
     "metadata": {},
     "output_type": "execute_result"
    }
   ],
   "source": [
    "measurements_df = pd.read_sql('SELECT * FROM hawaii_measurements', con=conn)\n",
    "measurements_df.head()"
   ]
  },
  {
   "cell_type": "code",
   "execution_count": 15,
   "metadata": {},
   "outputs": [
    {
     "data": {
      "text/html": [
       "<div>\n",
       "<style scoped>\n",
       "    .dataframe tbody tr th:only-of-type {\n",
       "        vertical-align: middle;\n",
       "    }\n",
       "\n",
       "    .dataframe tbody tr th {\n",
       "        vertical-align: top;\n",
       "    }\n",
       "\n",
       "    .dataframe thead th {\n",
       "        text-align: right;\n",
       "    }\n",
       "</style>\n",
       "<table border=\"1\" class=\"dataframe\">\n",
       "  <thead>\n",
       "    <tr style=\"text-align: right;\">\n",
       "      <th></th>\n",
       "      <th>index</th>\n",
       "      <th>station</th>\n",
       "      <th>date</th>\n",
       "      <th>prcp</th>\n",
       "      <th>tobs</th>\n",
       "    </tr>\n",
       "  </thead>\n",
       "  <tbody>\n",
       "    <tr>\n",
       "      <th>0</th>\n",
       "      <td>2363</td>\n",
       "      <td>USC00519397</td>\n",
       "      <td>2016-08-23</td>\n",
       "      <td>0.00</td>\n",
       "      <td>81</td>\n",
       "    </tr>\n",
       "    <tr>\n",
       "      <th>1</th>\n",
       "      <td>2364</td>\n",
       "      <td>USC00519397</td>\n",
       "      <td>2016-08-24</td>\n",
       "      <td>0.08</td>\n",
       "      <td>79</td>\n",
       "    </tr>\n",
       "    <tr>\n",
       "      <th>2</th>\n",
       "      <td>2365</td>\n",
       "      <td>USC00519397</td>\n",
       "      <td>2016-08-25</td>\n",
       "      <td>0.08</td>\n",
       "      <td>80</td>\n",
       "    </tr>\n",
       "    <tr>\n",
       "      <th>3</th>\n",
       "      <td>2366</td>\n",
       "      <td>USC00519397</td>\n",
       "      <td>2016-08-26</td>\n",
       "      <td>0.00</td>\n",
       "      <td>79</td>\n",
       "    </tr>\n",
       "    <tr>\n",
       "      <th>4</th>\n",
       "      <td>2367</td>\n",
       "      <td>USC00519397</td>\n",
       "      <td>2016-08-27</td>\n",
       "      <td>0.00</td>\n",
       "      <td>77</td>\n",
       "    </tr>\n",
       "  </tbody>\n",
       "</table>\n",
       "</div>"
      ],
      "text/plain": [
       "   index      station        date  prcp  tobs\n",
       "0   2363  USC00519397  2016-08-23  0.00    81\n",
       "1   2364  USC00519397  2016-08-24  0.08    79\n",
       "2   2365  USC00519397  2016-08-25  0.08    80\n",
       "3   2366  USC00519397  2016-08-26  0.00    79\n",
       "4   2367  USC00519397  2016-08-27  0.00    77"
      ]
     },
     "execution_count": 15,
     "metadata": {},
     "output_type": "execute_result"
    }
   ],
   "source": [
    "last12months_df = pd.read_sql(\"SELECT * FROM hawaii_measurements WHERE date >= '2016-08-23'\", con=conn)\n",
    "last12months_df.head()"
   ]
  },
  {
   "cell_type": "code",
   "execution_count": 16,
   "metadata": {},
   "outputs": [],
   "source": [
    "# Create a function which gives the min, max, and mean temperatures between given dates: \n",
    "def calc_temps (start_date, end_date):\n",
    "    dataframe = pd.read_sql(f\"SELECT * FROM hawaii_measurements WHERE (date >= '{start_date}' AND date <= '{end_date}')\", con=conn)\n",
    "    min_temp = dataframe['tobs'].min()\n",
    "    max_temp = dataframe['tobs'].max()\n",
    "    mean_temp = dataframe['tobs'].mean()"
   ]
  },
  {
   "cell_type": "code",
   "execution_count": 17,
   "metadata": {},
   "outputs": [],
   "source": [
    "# Convert date strings into datetime objects\n",
    "converted_timestamps = []\n",
    "for date in measurements_df['date']:\n",
    "    converted_time = datetime.strptime(date, \"%Y-%m-%d\")\n",
    "    converted_timestamps.append(converted_time)\n",
    "converted_timestamps[10]\n",
    "\n",
    "# Reset the date column with the datetime objects\n",
    "measurements_df['date'] = converted_timestamps"
   ]
  },
  {
   "cell_type": "code",
   "execution_count": 19,
   "metadata": {},
   "outputs": [
    {
     "name": "stderr",
     "output_type": "stream",
     "text": [
      " * Running on http://127.0.0.1:5000/ (Press CTRL+C to quit)\n",
      " * Restarting with stat\n"
     ]
    },
    {
     "ename": "SystemExit",
     "evalue": "1",
     "output_type": "error",
     "traceback": [
      "An exception has occurred, use %tb to see the full traceback.\n",
      "\u001b[0;31mSystemExit\u001b[0m\u001b[0;31m:\u001b[0m 1\n"
     ]
    },
    {
     "name": "stderr",
     "output_type": "stream",
     "text": [
      "/Users/ucidataanalytics/anaconda3/lib/python3.6/site-packages/IPython/core/interactiveshell.py:2870: UserWarning: To exit: use 'exit', 'quit', or Ctrl-D.\n",
      "  warn(\"To exit: use 'exit', 'quit', or Ctrl-D.\", stacklevel=1)\n"
     ]
    }
   ],
   "source": [
    "# Create the Flask API server:\n",
    "app = Flask(__name__)\n",
    "\n",
    "@app.route(\"/api/v1.0/precipitation\")\n",
    "\n",
    "def precipitation():\n",
    "    # Create a dataframe with the that only includes the dates for the last year. \n",
    "    now = datetime.now() \n",
    "    year_ago = datetime.now() - timedelta(days=365)\n",
    "    dataframe = measurements_df[(measurements_df['date'] >= year_ago) & (measurements_df['date'] <= now)]\n",
    "    \n",
    "    # Convert the datetime objects into strings so the dictionary can read them. \n",
    "    date_string_list = []\n",
    "    for datetimeobject in dataframe.date:\n",
    "        date_string_list.append(datetimeobject.strftime(\"%Y-%m-%d\"))\n",
    "    dataframe.date = date_string_list\n",
    "    \n",
    "    #Create the dictionary and publish it. \n",
    "    dictionary = dataframe[['date','tobs']].set_index(\"date\").T.to_dict('list')\n",
    "    return jsonify(dictionary)\n",
    "\n",
    "@app.route(\"/api/v1.0/stations\")\n",
    "\n",
    "def stations():\n",
    "    stations_list = hawaii_stations.station.tolist()\n",
    "    return jsonify(stations_list)\n",
    "\n",
    "@app.route(\"/api/v1.0/tobs\")\n",
    "\n",
    "def tobs():\n",
    "    # Create a dataframe with the that only includes the dates for the last year. \n",
    "    now = datetime.now() \n",
    "    year_ago = datetime.now() - timedelta(days=365)\n",
    "    dataframe = measurements_df[(measurements_df['date'] >= year_ago) & (measurements_df['date'] <= now)]\n",
    "    \n",
    "    #Make a list of the temperatures and publish them\n",
    "    temperature_list = dataframe['tobs'].tolist()\n",
    "    return jsonify(temperature_list)\n",
    "\n",
    "@app.route(\"/api/v1.0/<start>/<end>\")\n",
    "\n",
    "def custom_date(start, end=False):\n",
    "    if end == False:\n",
    "        dataframe = measurements_df[measurements_df['date'] >= start]\n",
    "        min_temp = dataframe['tobs'].min()\n",
    "        max_temp = dataframe['tobs'].max()\n",
    "        mean_temp = dataframe['tobs'].mean()\n",
    "        return str({\"MaxTemp\" : max_temp,\"MinTemp\" : min_temp, \"MeanTemp\" : mean_temp})\n",
    "    else:\n",
    "        dataframe = measurements_df[(measurements_df['date'] >= start) & (measurements_df['date'] <= end)]\n",
    "        min_temp = dataframe['tobs'].min()\n",
    "        max_temp = dataframe['tobs'].max()\n",
    "        mean_temp = dataframe['tobs'].mean()\n",
    "        return str({\"MaxTemp\" : max_temp,\"MinTemp\" : min_temp, \"MeanTemp\" : mean_temp})\n",
    "\n",
    "@app.route(\"/api/v1.0/<start>\")\n",
    "def custom_date2(start):\n",
    "    dataframe = measurements_df[measurements_df['date'] >= start]\n",
    "    min_temp = dataframe['tobs'].min()\n",
    "    max_temp = dataframe['tobs'].max()\n",
    "    mean_temp = dataframe['tobs'].mean()\n",
    "    return str({\"MaxTemp\" : max_temp, \"MinTemp\" : min_temp, \"MeanTemp\" : mean_temp})\n",
    "\n",
    "\n",
    "if __name__ == \"__main__\":\n",
    "    app.run(debug=True)"
   ]
  }
 ],
 "metadata": {
  "kernelspec": {
   "display_name": "Python 3",
   "language": "python",
   "name": "python3"
  },
  "language_info": {
   "codemirror_mode": {
    "name": "ipython",
    "version": 3
   },
   "file_extension": ".py",
   "mimetype": "text/x-python",
   "name": "python",
   "nbconvert_exporter": "python",
   "pygments_lexer": "ipython3",
   "version": "3.6.3"
  }
 },
 "nbformat": 4,
 "nbformat_minor": 2
}
