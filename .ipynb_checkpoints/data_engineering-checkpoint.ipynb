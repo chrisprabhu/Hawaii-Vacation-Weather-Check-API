{
 "cells": [
  {
   "cell_type": "code",
   "execution_count": 1,
   "metadata": {},
   "outputs": [],
   "source": [
    "import pandas as pd\n",
    "import pymysql\n",
    "pymysql.install_as_MySQLdb()\n",
    "from sqlalchemy import Column, Integer, String, Float\n",
    "from sqlalchemy.ext.declarative import declarative_base"
   ]
  },
  {
   "cell_type": "code",
   "execution_count": 2,
   "metadata": {},
   "outputs": [],
   "source": [
    "# Read in the CSV spreadsheets as pandas Dataframes\n",
    "hawaii_measurements = pd.read_csv(\"resources/hawaii_measurements.csv\")\n",
    "hawaii_stations = pd.read_csv(\"resources/hawaii_stations.csv\")"
   ]
  },
  {
   "cell_type": "code",
   "execution_count": 3,
   "metadata": {},
   "outputs": [
    {
     "name": "stdout",
     "output_type": "stream",
     "text": [
      "       station        date  prcp  tobs\n",
      "0  USC00519397  2010-01-01  0.08    65\n",
      "1  USC00519397  2010-01-02  0.00    63\n",
      "2  USC00519397  2010-01-03  0.00    74\n",
      "3  USC00519397  2010-01-04  0.00    76\n",
      "4  USC00519397  2010-01-06   NaN    73\n",
      "       station                                    name  latitude  longitude  \\\n",
      "0  USC00519397                    WAIKIKI 717.2, HI US   21.2716  -157.8168   \n",
      "1  USC00513117                    KANEOHE 838.1, HI US   21.4234  -157.8015   \n",
      "2  USC00514830  KUALOA RANCH HEADQUARTERS 886.9, HI US   21.5213  -157.8374   \n",
      "3  USC00517948                       PEARL CITY, HI US   21.3934  -157.9751   \n",
      "4  USC00518838              UPPER WAHIAWA 874.3, HI US   21.4992  -158.0111   \n",
      "\n",
      "   elevation  \n",
      "0        3.0  \n",
      "1       14.6  \n",
      "2        7.0  \n",
      "3       11.9  \n",
      "4      306.6  \n"
     ]
    }
   ],
   "source": [
    "#Inspect the dataframes:\n",
    "print(hawaii_measurements.head())\n",
    "print(hawaii_stations.head())"
   ]
  },
  {
   "cell_type": "code",
   "execution_count": 4,
   "metadata": {},
   "outputs": [
    {
     "name": "stdout",
     "output_type": "stream",
     "text": [
      "station    False\n",
      "date       False\n",
      "prcp        True\n",
      "tobs       False\n",
      "dtype: bool\n"
     ]
    }
   ],
   "source": [
    "#Check if there are any missing values in the dataframes:\n",
    "print(hawaii_measurements.isnull().any())"
   ]
  },
  {
   "cell_type": "code",
   "execution_count": 5,
   "metadata": {},
   "outputs": [
    {
     "name": "stdout",
     "output_type": "stream",
     "text": [
      "station      False\n",
      "name         False\n",
      "latitude     False\n",
      "longitude    False\n",
      "elevation    False\n",
      "dtype: bool\n"
     ]
    }
   ],
   "source": [
    "print(hawaii_stations.isnull().any())"
   ]
  },
  {
   "cell_type": "code",
   "execution_count": 6,
   "metadata": {},
   "outputs": [],
   "source": [
    "# Drop the missing values from hawaii_measurements:\n",
    "hawaii_measurements = hawaii_measurements.dropna()"
   ]
  },
  {
   "cell_type": "code",
   "execution_count": 7,
   "metadata": {
    "scrolled": true
   },
   "outputs": [
    {
     "data": {
      "text/plain": [
       "station    False\n",
       "date       False\n",
       "prcp       False\n",
       "tobs       False\n",
       "dtype: bool"
      ]
     },
     "execution_count": 7,
     "metadata": {},
     "output_type": "execute_result"
    }
   ],
   "source": [
    "#Verify the data has been dropped:\n",
    "hawaii_measurements.isnull().any()"
   ]
  },
  {
   "cell_type": "code",
   "execution_count": 8,
   "metadata": {},
   "outputs": [],
   "source": [
    "#Write new CSV files with the cleaned data:\n",
    "hawaii_measurements.to_csv(\"resources/clean_hawaii_measurements.csv\")\n",
    "hawaii_stations.to_csv(\"resources/clean_hawaii_stations.csv\")"
   ]
  }
 ],
 "metadata": {
  "kernelspec": {
   "display_name": "Python 3",
   "language": "python",
   "name": "python3"
  },
  "language_info": {
   "codemirror_mode": {
    "name": "ipython",
    "version": 3
   },
   "file_extension": ".py",
   "mimetype": "text/x-python",
   "name": "python",
   "nbconvert_exporter": "python",
   "pygments_lexer": "ipython3",
   "version": "3.6.3"
  }
 },
 "nbformat": 4,
 "nbformat_minor": 2
}
